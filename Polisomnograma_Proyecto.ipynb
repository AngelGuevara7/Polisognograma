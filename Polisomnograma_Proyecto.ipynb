{
 "cells": [
  {
   "cell_type": "markdown",
   "id": "341ae6b9",
   "metadata": {},
   "source": [
    "# PROYECTO POLISOMNOGRAMA\n",
    "## CIENCIA DE DATOS EN BIOMEDICINA\n",
    "### ÁNGEL GUEVARA Y ARTURO SIRVENT"
   ]
  },
  {
   "cell_type": "code",
   "execution_count": 1,
   "id": "26fb047c",
   "metadata": {},
   "outputs": [],
   "source": [
    "# Módulos \n",
    "\n",
    "# Básicos\n",
    "import numpy as np\n",
    "import pandas as pd\n",
    "import matplotlib.pyplot as plt\n",
    "import seaborn as sns\n",
    "\n",
    "# Análisis sueño\n",
    "import mne \n",
    "import yasa\n",
    "\n",
    "# Modelado\n",
    "from sklearn.ensemble import RandomForestClassifier\n",
    "from sklearn.model_selection import train_test_split, GridSearchCV\n",
    "from sklearn.multiclass import OneVsRestClassifier\n",
    "\n",
    "# Evaluación \n",
    "from sklearn.metrics import plot_roc_curve, classification_report, confusion_matrix"
   ]
  },
  {
   "cell_type": "markdown",
   "id": "7ba43bec",
   "metadata": {},
   "source": [
    "## Leemos las señales y las preprocesamos"
   ]
  },
  {
   "cell_type": "code",
   "execution_count": 2,
   "id": "32899cc3",
   "metadata": {},
   "outputs": [
    {
     "name": "stdout",
     "output_type": "stream",
     "text": [
      "Extracting EDF parameters from C:\\Users\\Usuario\\MCD\\CDB\\Proyecto_Polisomnograma\\raw_data\\8\\8.edf...\n",
      "EDF file detected\n",
      "Setting channel info structure...\n",
      "Creating raw.info structure...\n",
      "Reading 0 ... 5999999  =      0.000 ... 29999.995 secs...\n",
      "Extracting EDF parameters from C:\\Users\\Usuario\\MCD\\CDB\\Proyecto_Polisomnograma\\raw_data\\9\\9.edf...\n",
      "EDF file detected\n",
      "Setting channel info structure...\n",
      "Creating raw.info structure...\n",
      "Reading 0 ... 5813999  =      0.000 ... 29069.995 secs...\n",
      "Extracting EDF parameters from C:\\Users\\Usuario\\MCD\\CDB\\Proyecto_Polisomnograma\\raw_data\\10\\10.edf...\n",
      "EDF file detected\n",
      "Setting channel info structure...\n",
      "Creating raw.info structure...\n",
      "Reading 0 ... 4775999  =      0.000 ... 23879.995 secs...\n"
     ]
    }
   ],
   "source": [
    "# Leemos los datos\n",
    "raw_8 = mne.io.read_raw_edf('./raw_data/8/8.edf', preload=True)\n",
    "raw_9 = mne.io.read_raw_edf('./raw_data/9/9.edf', preload=True)\n",
    "raw_10 = mne.io.read_raw_edf('./raw_data/10/10.edf', preload=True)"
   ]
  },
  {
   "cell_type": "code",
   "execution_count": 3,
   "id": "8e7e5aae",
   "metadata": {},
   "outputs": [
    {
     "name": "stdout",
     "output_type": "stream",
     "text": [
      "['LOC-A2', 'ROC-A1', 'F3-A2', 'C3-A2', 'O1-A2', 'F4-A1', 'C4-A1', 'O2-A1', 'X1', 'X2', 'X3', 'X4', 'X5', 'X6', 'DC3', 'X7', 'X8', 'SaO2', 'DC8']\n"
     ]
    },
    {
     "data": {
      "text/html": [
       "<table class=\"table table-hover table-striped table-sm table-responsive small\">\n",
       "    <tr>\n",
       "        <th>Measurement date</th>\n",
       "        \n",
       "        <td>March 07, 2009  00:32:00 GMT</td>\n",
       "        \n",
       "    </tr>\n",
       "    <tr>\n",
       "        <th>Experimenter</th>\n",
       "        \n",
       "        <td>Unknown</td>\n",
       "        \n",
       "    </tr>\n",
       "        <th>Participant</th>\n",
       "        \n",
       "        <td>Unknown</td>\n",
       "        \n",
       "    </tr>\n",
       "    <tr>\n",
       "        <th>Digitized points</th>\n",
       "        \n",
       "        <td>0 points</td>\n",
       "        \n",
       "    </tr>\n",
       "    <tr>\n",
       "        <th>Good channels</th>\n",
       "        <td>3 EEG</td>\n",
       "    </tr>\n",
       "    <tr>\n",
       "        <th>Bad channels</th>\n",
       "        <td>None</td>\n",
       "    </tr>\n",
       "    <tr>\n",
       "        <th>EOG channels</th>\n",
       "        <td>Not available</td>\n",
       "    </tr>\n",
       "    <tr>\n",
       "        <th>ECG channels</th>\n",
       "        <td>Not available</td>\n",
       "    \n",
       "    <tr>\n",
       "        <th>Sampling frequency</th>\n",
       "        <td>200.00 Hz</td>\n",
       "    </tr>\n",
       "    \n",
       "    \n",
       "    <tr>\n",
       "        <th>Highpass</th>\n",
       "        <td>0.00 Hz</td>\n",
       "    </tr>\n",
       "    \n",
       "    \n",
       "    <tr>\n",
       "        <th>Lowpass</th>\n",
       "        <td>100.00 Hz</td>\n",
       "    </tr>\n",
       "    \n",
       "    \n",
       "    \n",
       "    <tr>\n",
       "        <th>Filenames</th>\n",
       "        <td>10.edf</td>\n",
       "    </tr>\n",
       "    \n",
       "    <tr>\n",
       "        <th>Duration</th>\n",
       "        <td>06:37:59 (HH:MM:SS)</td>\n",
       "    </tr>\n",
       "</table>"
      ],
      "text/plain": [
       "<RawEDF | 10.edf, 3 x 4776000 (23880.0 s), ~109.3 MB, data loaded>"
      ]
     },
     "execution_count": 3,
     "metadata": {},
     "output_type": "execute_result"
    }
   ],
   "source": [
    "# Nos quedamos solo con los canales que nos interesen \n",
    "\n",
    "\n",
    "print(raw_9.ch_names)\n",
    "\n",
    "raw_8.drop_channels(['ROC-A1', 'F3-A2', 'O1-A2', 'F4-A1', 'C4-A1', 'O2-A1', 'X2', 'X3', 'X4', 'X5', 'X6', 'DC3', 'X7', 'X8', \n",
    "                   'SaO2', 'DC8'])\n",
    "\n",
    "raw_9.drop_channels(['ROC-A1', 'F3-A2', 'O1-A2', 'F4-A1', 'C4-A1', 'O2-A1', 'X2', 'X3', 'X4', 'X5', 'X6', 'DC3', 'X7', 'X8', \n",
    "                   'SaO2', 'DC8'])\n",
    "\n",
    "raw_10.drop_channels(['ROC-A1', 'F3-A2', 'O1-A2', 'F4-A1', 'C4-A1', 'O2-A1', 'X2', 'X3', 'X4', 'X5', 'X6', 'DC3', 'X7', 'X8', \n",
    "                   'SaO2', 'DC8'])"
   ]
  },
  {
   "cell_type": "code",
   "execution_count": 4,
   "id": "46e291c3",
   "metadata": {},
   "outputs": [],
   "source": [
    "# Reducimos las muestras a la mitad haciendo un downsampling. Es decir, en vez de coger 200 tomas por segundo, cogeremos 100.\n",
    "raw_8.resample(100)\n",
    "sf8 = raw_8.info['sfreq']\n",
    "\n",
    "raw_9.resample(100)\n",
    "sf9 = raw_9.info['sfreq']\n",
    "\n",
    "raw_10.resample(100)\n",
    "sf10 = raw_10.info['sfreq']"
   ]
  },
  {
   "cell_type": "code",
   "execution_count": 5,
   "id": "f34b10cc",
   "metadata": {},
   "outputs": [
    {
     "name": "stdout",
     "output_type": "stream",
     "text": [
      "Filtering raw data in 1 contiguous segment\n",
      "Setting up band-pass filter from 0.3 - 50 Hz\n",
      "\n",
      "FIR filter parameters\n",
      "---------------------\n",
      "Designing a one-pass, zero-phase, non-causal bandpass filter:\n",
      "- Windowed time-domain design (firwin) method\n",
      "- Hamming window with 0.0194 passband ripple and 53 dB stopband attenuation\n",
      "- Lower passband edge: 0.30\n",
      "- Lower transition bandwidth: 0.30 Hz (-6 dB cutoff frequency: 0.15 Hz)\n",
      "- Upper passband edge: 49.99 Hz\n",
      "- Upper transition bandwidth: 0.01 Hz (-6 dB cutoff frequency: 50.00 Hz)\n",
      "- Filter length: 33001 samples (330.010 sec)\n",
      "\n",
      "Filtering raw data in 1 contiguous segment\n",
      "Setting up band-pass filter from 0.3 - 50 Hz\n",
      "\n",
      "FIR filter parameters\n",
      "---------------------\n",
      "Designing a one-pass, zero-phase, non-causal bandpass filter:\n",
      "- Windowed time-domain design (firwin) method\n",
      "- Hamming window with 0.0194 passband ripple and 53 dB stopband attenuation\n",
      "- Lower passband edge: 0.30\n",
      "- Lower transition bandwidth: 0.30 Hz (-6 dB cutoff frequency: 0.15 Hz)\n",
      "- Upper passband edge: 49.99 Hz\n",
      "- Upper transition bandwidth: 0.01 Hz (-6 dB cutoff frequency: 50.00 Hz)\n",
      "- Filter length: 33001 samples (330.010 sec)\n",
      "\n",
      "Filtering raw data in 1 contiguous segment\n",
      "Setting up band-pass filter from 0.3 - 45 Hz\n",
      "\n",
      "FIR filter parameters\n",
      "---------------------\n",
      "Designing a one-pass, zero-phase, non-causal bandpass filter:\n",
      "- Windowed time-domain design (firwin) method\n",
      "- Hamming window with 0.0194 passband ripple and 53 dB stopband attenuation\n",
      "- Lower passband edge: 0.30\n",
      "- Lower transition bandwidth: 0.30 Hz (-6 dB cutoff frequency: 0.15 Hz)\n",
      "- Upper passband edge: 45.00 Hz\n",
      "- Upper transition bandwidth: 5.00 Hz (-6 dB cutoff frequency: 47.50 Hz)\n",
      "- Filter length: 1101 samples (11.010 sec)\n",
      "\n"
     ]
    },
    {
     "data": {
      "text/html": [
       "<table class=\"table table-hover table-striped table-sm table-responsive small\">\n",
       "    <tr>\n",
       "        <th>Measurement date</th>\n",
       "        \n",
       "        <td>March 07, 2009  00:32:00 GMT</td>\n",
       "        \n",
       "    </tr>\n",
       "    <tr>\n",
       "        <th>Experimenter</th>\n",
       "        \n",
       "        <td>Unknown</td>\n",
       "        \n",
       "    </tr>\n",
       "        <th>Participant</th>\n",
       "        \n",
       "        <td>Unknown</td>\n",
       "        \n",
       "    </tr>\n",
       "    <tr>\n",
       "        <th>Digitized points</th>\n",
       "        \n",
       "        <td>0 points</td>\n",
       "        \n",
       "    </tr>\n",
       "    <tr>\n",
       "        <th>Good channels</th>\n",
       "        <td>3 EEG</td>\n",
       "    </tr>\n",
       "    <tr>\n",
       "        <th>Bad channels</th>\n",
       "        <td>None</td>\n",
       "    </tr>\n",
       "    <tr>\n",
       "        <th>EOG channels</th>\n",
       "        <td>Not available</td>\n",
       "    </tr>\n",
       "    <tr>\n",
       "        <th>ECG channels</th>\n",
       "        <td>Not available</td>\n",
       "    \n",
       "    <tr>\n",
       "        <th>Sampling frequency</th>\n",
       "        <td>100.00 Hz</td>\n",
       "    </tr>\n",
       "    \n",
       "    \n",
       "    <tr>\n",
       "        <th>Highpass</th>\n",
       "        <td>0.30 Hz</td>\n",
       "    </tr>\n",
       "    \n",
       "    \n",
       "    <tr>\n",
       "        <th>Lowpass</th>\n",
       "        <td>45.00 Hz</td>\n",
       "    </tr>\n",
       "    \n",
       "    \n",
       "    \n",
       "    <tr>\n",
       "        <th>Filenames</th>\n",
       "        <td>10.edf</td>\n",
       "    </tr>\n",
       "    \n",
       "    <tr>\n",
       "        <th>Duration</th>\n",
       "        <td>06:37:59 (HH:MM:SS)</td>\n",
       "    </tr>\n",
       "</table>"
      ],
      "text/plain": [
       "<RawEDF | 10.edf, 3 x 2388000 (23880.0 s), ~54.7 MB, data loaded>"
      ]
     },
     "execution_count": 5,
     "metadata": {},
     "output_type": "execute_result"
    }
   ],
   "source": [
    "# Además, aplicamos un filtro de pasa-banda porque las frecuencias de interés están en un rango de 0-30 aprox\n",
    "\n",
    "raw_8.filter(0.3, 49.99)\n",
    "raw_9.filter(0.3, 49.99)\n",
    "raw_10.filter(0.3, 45)"
   ]
  },
  {
   "cell_type": "code",
   "execution_count": 6,
   "id": "1b60f09d",
   "metadata": {},
   "outputs": [
    {
     "name": "stdout",
     "output_type": "stream",
     "text": [
      "(3, 3000000)\n",
      "(3, 2907000)\n",
      "(3, 2388000)\n"
     ]
    }
   ],
   "source": [
    "# Podemos acceder a los datos de la siguiente manera\n",
    "\n",
    "data8 = raw_8.get_data() * 1e6\n",
    "print(data8.shape)\n",
    "\n",
    "data9 = raw_9.get_data() * 1e6\n",
    "print(data9.shape)\n",
    "\n",
    "data10 = raw_10.get_data() * 1e6\n",
    "print(data10.shape)"
   ]
  },
  {
   "cell_type": "code",
   "execution_count": 7,
   "id": "4ce12420",
   "metadata": {},
   "outputs": [],
   "source": [
    "# Quitamos las últimas 30 épocas, para ello, tenedremos que restar 30 épocas, de 30 segundos cada una, dónde 1 segundo son 100 \n",
    "# tomas. \n",
    "# En resumen, quitamos las últimas 30*30*100 muestras.\n",
    "\n",
    "ultimas_30 = 30*30*100\n",
    "\n",
    "data8 = data8[:,0:-ultimas_30]\n",
    "\n",
    "data9 = data9[:,0:-ultimas_30]\n",
    "\n",
    "data10 = data10[:,0:-ultimas_30]\n"
   ]
  },
  {
   "cell_type": "code",
   "execution_count": 8,
   "id": "5ee74c5e",
   "metadata": {},
   "outputs": [
    {
     "name": "stdout",
     "output_type": "stream",
     "text": [
      "(3, 2910000)\n",
      "(3, 2817000)\n",
      "(3, 2298000)\n"
     ]
    }
   ],
   "source": [
    "print(data8.shape)\n",
    "print(data9.shape)\n",
    "print(data10.shape)"
   ]
  },
  {
   "cell_type": "code",
   "execution_count": 9,
   "id": "98dc4973",
   "metadata": {},
   "outputs": [
    {
     "data": {
      "text/html": [
       "<table class=\"table table-hover table-striped table-sm table-responsive small\">\n",
       "    <tr>\n",
       "        <th>Measurement date</th>\n",
       "        \n",
       "        <td>March 07, 2009  00:32:00 GMT</td>\n",
       "        \n",
       "    </tr>\n",
       "    <tr>\n",
       "        <th>Experimenter</th>\n",
       "        \n",
       "        <td>Unknown</td>\n",
       "        \n",
       "    </tr>\n",
       "        <th>Participant</th>\n",
       "        \n",
       "        <td>Unknown</td>\n",
       "        \n",
       "    </tr>\n",
       "    <tr>\n",
       "        <th>Digitized points</th>\n",
       "        \n",
       "        <td>0 points</td>\n",
       "        \n",
       "    </tr>\n",
       "    <tr>\n",
       "        <th>Good channels</th>\n",
       "        <td>3 EEG</td>\n",
       "    </tr>\n",
       "    <tr>\n",
       "        <th>Bad channels</th>\n",
       "        <td>None</td>\n",
       "    </tr>\n",
       "    <tr>\n",
       "        <th>EOG channels</th>\n",
       "        <td>Not available</td>\n",
       "    </tr>\n",
       "    <tr>\n",
       "        <th>ECG channels</th>\n",
       "        <td>Not available</td>\n",
       "    \n",
       "    <tr>\n",
       "        <th>Sampling frequency</th>\n",
       "        <td>100.00 Hz</td>\n",
       "    </tr>\n",
       "    \n",
       "    \n",
       "    <tr>\n",
       "        <th>Highpass</th>\n",
       "        <td>0.30 Hz</td>\n",
       "    </tr>\n",
       "    \n",
       "    \n",
       "    <tr>\n",
       "        <th>Lowpass</th>\n",
       "        <td>45.00 Hz</td>\n",
       "    </tr>\n",
       "    \n",
       "    \n",
       "    \n",
       "    <tr>\n",
       "        <th>Filenames</th>\n",
       "        <td>10.edf</td>\n",
       "    </tr>\n",
       "    \n",
       "    <tr>\n",
       "        <th>Duration</th>\n",
       "        <td>06:22:59 (HH:MM:SS)</td>\n",
       "    </tr>\n",
       "</table>"
      ],
      "text/plain": [
       "<RawEDF | 10.edf, 3 x 2298000 (22980.0 s), ~52.6 MB, data loaded>"
      ]
     },
     "execution_count": 9,
     "metadata": {},
     "output_type": "execute_result"
    }
   ],
   "source": [
    "# Quitamos las últimas 30 épocas del objeto row también para que no haya problemas en las funciones espectrales que usaremos\n",
    "# más adelante. \n",
    "\n",
    "raw_8.crop(0,data8.shape[1]/100, include_tmax = False)\n",
    "\n",
    "raw_9.crop(0,data9.shape[1]/100, include_tmax = False)\n",
    "\n",
    "raw_10.crop(0,data10.shape[1]/100, include_tmax = False)"
   ]
  },
  {
   "cell_type": "code",
   "execution_count": 10,
   "id": "71cbfaf1",
   "metadata": {},
   "outputs": [
    {
     "name": "stdout",
     "output_type": "stream",
     "text": [
      "[0 1 2 3 5]\n",
      "[0 1 2 3 5]\n",
      "[0 1 2 3 5]\n"
     ]
    }
   ],
   "source": [
    "# Importamos las etiquetas de cada señal. Estas han sido puestas por dos expertos distintos que han estado en completa \n",
    "# concordancia. Se encuentran en los ficheros de texto correspondientes.\n",
    "\n",
    "\n",
    "hypno8 = pd.read_csv(\"./raw_data/8/8_1.txt\", squeeze=True, header=None)\n",
    "hypno9 = pd.read_csv(\"./raw_data/9/9_1.txt\", squeeze=True, header=None)\n",
    "hypno10 = pd.read_csv(\"./raw_data/10/10_1.txt\", squeeze=True, header=None)\n",
    "\n",
    "#Las etiquetas vienen codificadas con los números 0,1,2,3,5\n",
    "print(hypno8.unique())\n",
    "print(hypno9.unique())\n",
    "print(hypno10.unique())"
   ]
  },
  {
   "cell_type": "code",
   "execution_count": 11,
   "id": "b612f845",
   "metadata": {},
   "outputs": [
    {
     "data": {
      "text/plain": [
       "<AxesSubplot:xlabel='Time [hrs]', ylabel='Stage'>"
      ]
     },
     "execution_count": 11,
     "metadata": {},
     "output_type": "execute_result"
    },
    {
     "data": {
      "image/png": "[encoded data removed]",
      "text/plain": [
       "<Figure size 648x216 with 1 Axes>"
      ]
     },
     "metadata": {
      "needs_background": "light"
     },
     "output_type": "display_data"
    },
    {
     "data": {
      "image/png": "[encoded data removed]",
      "text/plain": [
       "<Figure size 648x216 with 1 Axes>"
      ]
     },
     "metadata": {
      "needs_background": "light"
     },
     "output_type": "display_data"
    },
    {
     "data": {
      "image/png": "[encoded data removed]",
      "text/plain": [
       "<Figure size 648x216 with 1 Axes>"
      ]
     },
     "metadata": {
      "needs_background": "light"
     },
     "output_type": "display_data"
    }
   ],
   "source": [
    "# Renombramos la clase 5 como clase 4 para que no de problemas las funciones. \n",
    "\n",
    "for i in range(hypno8.shape[0]):\n",
    "    if hypno8.values[i]==5:\n",
    "        hypno8.values[i]=4\n",
    "        \n",
    "for i in range(hypno9.shape[0]):\n",
    "    if hypno9.values[i]==5:\n",
    "        hypno9.values[i]=4\n",
    "        \n",
    "for i in range(hypno10.shape[0]):\n",
    "    if hypno10.values[i]==5:\n",
    "        hypno10.values[i]=4\n",
    "        \n",
    "        \n",
    "# Los dibujamos\n",
    "yasa.plot_hypnogram(hypno8)\n",
    "yasa.plot_hypnogram(hypno9)\n",
    "yasa.plot_hypnogram(hypno10)"
   ]
  },
  {
   "cell_type": "code",
   "execution_count": null,
   "id": "78ea06f6",
   "metadata": {},
   "outputs": [],
   "source": []
  },
  {
   "cell_type": "code",
   "execution_count": 12,
   "id": "d4a3e720",
   "metadata": {},
   "outputs": [
    {
     "name": "stdout",
     "output_type": "stream",
     "text": [
      "(970,)\n",
      "(939,)\n",
      "(766,)\n"
     ]
    }
   ],
   "source": [
    "# Recordemos que las etiquetas las teníamos en la variable `hypno`\n",
    "# quitamos las últimas 30 épocas en cada caso ya que éstas no hay que tenerlas en cuenta.\n",
    "\n",
    "\n",
    "# Sujeto 8\n",
    "labels8 = hypno8[0:-30]\n",
    "print(labels8.shape)\n",
    "\n",
    "# Sujeto 9\n",
    "labels9 = hypno9[0:-30]\n",
    "print(labels9.shape)\n",
    "\n",
    "# Sujeto 10\n",
    "labels10 = hypno10[0:-30]\n",
    "print(labels10.shape)"
   ]
  },
  {
   "cell_type": "code",
   "execution_count": null,
   "id": "83008e97",
   "metadata": {},
   "outputs": [],
   "source": []
  },
  {
   "cell_type": "markdown",
   "id": "7486419c",
   "metadata": {},
   "source": [
    "## Troceamos en intervalos de 30 segundos."
   ]
  },
  {
   "cell_type": "code",
   "execution_count": 13,
   "id": "aeb675ec",
   "metadata": {},
   "outputs": [],
   "source": [
    "# Sujeto 8\n",
    "data8_2 = []\n",
    "cortes8 = (data8.shape[1]/sf8) / 30\n",
    "\n",
    "for i in range(data8.shape[0]):\n",
    "        data8_2.append(np.split(data8[i], cortes8))\n",
    "\n",
    "# Sujeto 9\n",
    "data9_2 = []\n",
    "cortes9 = (data9.shape[1]/sf9) / 30\n",
    "\n",
    "for i in range(data9.shape[0]):\n",
    "        data9_2.append(np.split(data9[i], cortes9))\n",
    "        \n",
    "# Sujeto 10\n",
    "data10_2 = []\n",
    "cortes10 = (data10.shape[1]/sf10) / 30\n",
    "\n",
    "for i in range(data10.shape[0]):\n",
    "        data10_2.append(np.split(data10[i], cortes10))"
   ]
  },
  {
   "cell_type": "code",
   "execution_count": 14,
   "id": "b548b985",
   "metadata": {},
   "outputs": [
    {
     "name": "stdout",
     "output_type": "stream",
     "text": [
      "(3, 970, 3000)\n",
      "(3, 939, 3000)\n",
      "(3, 766, 3000)\n"
     ]
    }
   ],
   "source": [
    "# Transformamos en array la lista con los cortes hechos\n",
    "\n",
    "# Sujeto 8\n",
    "data8_2 = np.array(data8_2)\n",
    "print(data8_2.shape)\n",
    "\n",
    "# Sujeto 9\n",
    "data9_2 = np.array(data9_2)\n",
    "print(data9_2.shape)\n",
    "\n",
    "# Sujeto 10\n",
    "data10_2 = np.array(data10_2)\n",
    "print(data10_2.shape)"
   ]
  },
  {
   "cell_type": "code",
   "execution_count": null,
   "id": "dd1f149e",
   "metadata": {},
   "outputs": [],
   "source": []
  },
  {
   "cell_type": "markdown",
   "id": "3d6dd869",
   "metadata": {},
   "source": [
    "## Extraemos características "
   ]
  },
  {
   "cell_type": "markdown",
   "id": "636bfe75",
   "metadata": {},
   "source": [
    "En una primera aproximación, sacaremos las medias y las desviaciones típicas de tramo de 30 segundos en cada canal."
   ]
  },
  {
   "cell_type": "code",
   "execution_count": 15,
   "id": "061081f7",
   "metadata": {},
   "outputs": [
    {
     "data": {
      "image/png": "[encoded data removed]",
      "text/plain": [
       "<Figure size 648x216 with 1 Axes>"
      ]
     },
     "metadata": {
      "needs_background": "light"
     },
     "output_type": "display_data"
    }
   ],
   "source": [
    "# Sujeto 8\n",
    "sls8 = yasa.SleepStaging(raw_8, eeg_name='C3-A2', eog_name='LOC-A2', emg_name='X1')\n",
    "hypno_pred8 = sls8.predict()  # Predict the sleep stages\n",
    "hypno_pred8 = yasa.hypno_str_to_int(hypno_pred8)  # Convert \"W\" to 0, \"N1\" to 1, etc\n",
    "yasa.plot_hypnogram(hypno_pred8); "
   ]
  },
  {
   "cell_type": "code",
   "execution_count": 16,
   "id": "47c417fc",
   "metadata": {},
   "outputs": [
    {
     "data": {
      "image/png": "[encoded data removed]",
      "text/plain": [
       "<Figure size 648x216 with 1 Axes>"
      ]
     },
     "metadata": {
      "needs_background": "light"
     },
     "output_type": "display_data"
    }
   ],
   "source": [
    "# Sujeto 9\n",
    "sls9 = yasa.SleepStaging(raw_9, eeg_name='C3-A2', eog_name='LOC-A2', emg_name='X1')\n",
    "hypno_pred9 = sls9.predict()  # Predict the sleep stages\n",
    "hypno_pred9 = yasa.hypno_str_to_int(hypno_pred9)  # Convert \"W\" to 0, \"N1\" to 1, etc\n",
    "yasa.plot_hypnogram(hypno_pred9); "
   ]
  },
  {
   "cell_type": "code",
   "execution_count": 17,
   "id": "28ae28d7",
   "metadata": {},
   "outputs": [
    {
     "data": {
      "image/png": "[encoded data removed]",
      "text/plain": [
       "<Figure size 648x216 with 1 Axes>"
      ]
     },
     "metadata": {
      "needs_background": "light"
     },
     "output_type": "display_data"
    }
   ],
   "source": [
    "# Sujeto 10\n",
    "sls10 = yasa.SleepStaging(raw_10, eeg_name='C3-A2', eog_name='LOC-A2', emg_name='X1')\n",
    "hypno_pred10 = sls10.predict()  # Predict the sleep stages\n",
    "hypno_pred10 = yasa.hypno_str_to_int(hypno_pred10)  # Convert \"W\" to 0, \"N1\" to 1, etc\n",
    "yasa.plot_hypnogram(hypno_pred10); "
   ]
  },
  {
   "cell_type": "code",
   "execution_count": 18,
   "id": "219eda4f",
   "metadata": {},
   "outputs": [],
   "source": [
    "# Sujeto 8\n",
    "features_8 = sls8.get_features()\n",
    "# Sujeto 9\n",
    "features_9 = sls9.get_features()\n",
    "# Sujeto 10\n",
    "features_10 = sls10.get_features()"
   ]
  },
  {
   "cell_type": "code",
   "execution_count": 23,
   "id": "25e50718",
   "metadata": {},
   "outputs": [
    {
     "data": {
      "text/html": [
       "<div>\n",
       "<style scoped>\n",
       "    .dataframe tbody tr th:only-of-type {\n",
       "        vertical-align: middle;\n",
       "    }\n",
       "\n",
       "    .dataframe tbody tr th {\n",
       "        vertical-align: top;\n",
       "    }\n",
       "\n",
       "    .dataframe thead th {\n",
       "        text-align: right;\n",
       "    }\n",
       "</style>\n",
       "<table border=\"1\" class=\"dataframe\">\n",
       "  <thead>\n",
       "    <tr style=\"text-align: right;\">\n",
       "      <th></th>\n",
       "      <th>eeg_abspow</th>\n",
       "      <th>eeg_abspow_c7min_norm</th>\n",
       "      <th>eeg_abspow_p2min_norm</th>\n",
       "      <th>eeg_alpha</th>\n",
       "      <th>eeg_alpha_c7min_norm</th>\n",
       "      <th>eeg_alpha_p2min_norm</th>\n",
       "      <th>eeg_at</th>\n",
       "      <th>eeg_at_c7min_norm</th>\n",
       "      <th>eeg_at_p2min_norm</th>\n",
       "      <th>eeg_beta</th>\n",
       "      <th>...</th>\n",
       "      <th>eog_skew_c7min_norm</th>\n",
       "      <th>eog_skew_p2min_norm</th>\n",
       "      <th>eog_std</th>\n",
       "      <th>eog_std_c7min_norm</th>\n",
       "      <th>eog_std_p2min_norm</th>\n",
       "      <th>eog_theta</th>\n",
       "      <th>eog_theta_c7min_norm</th>\n",
       "      <th>eog_theta_p2min_norm</th>\n",
       "      <th>time_hour</th>\n",
       "      <th>time_norm</th>\n",
       "    </tr>\n",
       "    <tr>\n",
       "      <th>epoch</th>\n",
       "      <th></th>\n",
       "      <th></th>\n",
       "      <th></th>\n",
       "      <th></th>\n",
       "      <th></th>\n",
       "      <th></th>\n",
       "      <th></th>\n",
       "      <th></th>\n",
       "      <th></th>\n",
       "      <th></th>\n",
       "      <th></th>\n",
       "      <th></th>\n",
       "      <th></th>\n",
       "      <th></th>\n",
       "      <th></th>\n",
       "      <th></th>\n",
       "      <th></th>\n",
       "      <th></th>\n",
       "      <th></th>\n",
       "      <th></th>\n",
       "      <th></th>\n",
       "    </tr>\n",
       "  </thead>\n",
       "  <tbody>\n",
       "    <tr>\n",
       "      <th>0</th>\n",
       "      <td>4.545341</td>\n",
       "      <td>0.931674</td>\n",
       "      <td>1.205143</td>\n",
       "      <td>0.289044</td>\n",
       "      <td>0.432505</td>\n",
       "      <td>0.260559</td>\n",
       "      <td>3.837966</td>\n",
       "      <td>0.631870</td>\n",
       "      <td>0.505437</td>\n",
       "      <td>0.305399</td>\n",
       "      <td>...</td>\n",
       "      <td>-0.561162</td>\n",
       "      <td>-0.483046</td>\n",
       "      <td>3.931506</td>\n",
       "      <td>1.239759</td>\n",
       "      <td>2.067270</td>\n",
       "      <td>0.066370</td>\n",
       "      <td>-0.615230</td>\n",
       "      <td>-0.582441</td>\n",
       "      <td>0.000000</td>\n",
       "      <td>0.000000</td>\n",
       "    </tr>\n",
       "    <tr>\n",
       "      <th>1</th>\n",
       "      <td>5.240892</td>\n",
       "      <td>0.912996</td>\n",
       "      <td>1.436574</td>\n",
       "      <td>0.262013</td>\n",
       "      <td>0.455877</td>\n",
       "      <td>0.234352</td>\n",
       "      <td>3.482800</td>\n",
       "      <td>0.645939</td>\n",
       "      <td>0.476353</td>\n",
       "      <td>0.261714</td>\n",
       "      <td>...</td>\n",
       "      <td>-0.564484</td>\n",
       "      <td>-0.430728</td>\n",
       "      <td>4.236856</td>\n",
       "      <td>1.121821</td>\n",
       "      <td>2.210652</td>\n",
       "      <td>0.061887</td>\n",
       "      <td>-0.612157</td>\n",
       "      <td>-0.597417</td>\n",
       "      <td>0.008333</td>\n",
       "      <td>0.001032</td>\n",
       "    </tr>\n",
       "    <tr>\n",
       "      <th>2</th>\n",
       "      <td>3.053210</td>\n",
       "      <td>0.844773</td>\n",
       "      <td>1.028447</td>\n",
       "      <td>0.353350</td>\n",
       "      <td>0.480600</td>\n",
       "      <td>0.284652</td>\n",
       "      <td>3.562622</td>\n",
       "      <td>0.657804</td>\n",
       "      <td>0.471016</td>\n",
       "      <td>0.288139</td>\n",
       "      <td>...</td>\n",
       "      <td>-0.577619</td>\n",
       "      <td>-0.467211</td>\n",
       "      <td>2.171065</td>\n",
       "      <td>0.982754</td>\n",
       "      <td>1.611764</td>\n",
       "      <td>0.071202</td>\n",
       "      <td>-0.606614</td>\n",
       "      <td>-0.581663</td>\n",
       "      <td>0.016667</td>\n",
       "      <td>0.002064</td>\n",
       "    </tr>\n",
       "    <tr>\n",
       "      <th>3</th>\n",
       "      <td>3.652775</td>\n",
       "      <td>0.793848</td>\n",
       "      <td>0.924130</td>\n",
       "      <td>0.451407</td>\n",
       "      <td>0.501728</td>\n",
       "      <td>0.357336</td>\n",
       "      <td>4.808928</td>\n",
       "      <td>0.669421</td>\n",
       "      <td>0.519377</td>\n",
       "      <td>0.225975</td>\n",
       "      <td>...</td>\n",
       "      <td>-0.583573</td>\n",
       "      <td>-0.531085</td>\n",
       "      <td>2.639289</td>\n",
       "      <td>0.874477</td>\n",
       "      <td>1.422251</td>\n",
       "      <td>0.058757</td>\n",
       "      <td>-0.600190</td>\n",
       "      <td>-0.594574</td>\n",
       "      <td>0.025000</td>\n",
       "      <td>0.003096</td>\n",
       "    </tr>\n",
       "    <tr>\n",
       "      <th>4</th>\n",
       "      <td>3.164528</td>\n",
       "      <td>0.743629</td>\n",
       "      <td>0.694412</td>\n",
       "      <td>0.431922</td>\n",
       "      <td>0.519175</td>\n",
       "      <td>0.426598</td>\n",
       "      <td>5.049477</td>\n",
       "      <td>0.675600</td>\n",
       "      <td>0.568981</td>\n",
       "      <td>0.271876</td>\n",
       "      <td>...</td>\n",
       "      <td>-0.581902</td>\n",
       "      <td>-0.548754</td>\n",
       "      <td>1.826683</td>\n",
       "      <td>0.764979</td>\n",
       "      <td>0.928076</td>\n",
       "      <td>0.077217</td>\n",
       "      <td>-0.593656</td>\n",
       "      <td>-0.576455</td>\n",
       "      <td>0.033333</td>\n",
       "      <td>0.004128</td>\n",
       "    </tr>\n",
       "    <tr>\n",
       "      <th>...</th>\n",
       "      <td>...</td>\n",
       "      <td>...</td>\n",
       "      <td>...</td>\n",
       "      <td>...</td>\n",
       "      <td>...</td>\n",
       "      <td>...</td>\n",
       "      <td>...</td>\n",
       "      <td>...</td>\n",
       "      <td>...</td>\n",
       "      <td>...</td>\n",
       "      <td>...</td>\n",
       "      <td>...</td>\n",
       "      <td>...</td>\n",
       "      <td>...</td>\n",
       "      <td>...</td>\n",
       "      <td>...</td>\n",
       "      <td>...</td>\n",
       "      <td>...</td>\n",
       "      <td>...</td>\n",
       "      <td>...</td>\n",
       "      <td>...</td>\n",
       "    </tr>\n",
       "    <tr>\n",
       "      <th>965</th>\n",
       "      <td>2.297324</td>\n",
       "      <td>-0.177384</td>\n",
       "      <td>-0.195025</td>\n",
       "      <td>0.159416</td>\n",
       "      <td>-0.022214</td>\n",
       "      <td>-0.029946</td>\n",
       "      <td>0.965867</td>\n",
       "      <td>-0.011093</td>\n",
       "      <td>-0.011365</td>\n",
       "      <td>0.246440</td>\n",
       "      <td>...</td>\n",
       "      <td>0.282269</td>\n",
       "      <td>0.041927</td>\n",
       "      <td>2.299645</td>\n",
       "      <td>0.165806</td>\n",
       "      <td>0.278790</td>\n",
       "      <td>0.138692</td>\n",
       "      <td>0.156989</td>\n",
       "      <td>0.009874</td>\n",
       "      <td>8.041667</td>\n",
       "      <td>0.995872</td>\n",
       "    </tr>\n",
       "    <tr>\n",
       "      <th>966</th>\n",
       "      <td>2.625368</td>\n",
       "      <td>-0.175691</td>\n",
       "      <td>-0.206395</td>\n",
       "      <td>0.155437</td>\n",
       "      <td>-0.022868</td>\n",
       "      <td>-0.021721</td>\n",
       "      <td>0.677207</td>\n",
       "      <td>-0.011653</td>\n",
       "      <td>-0.010807</td>\n",
       "      <td>0.253879</td>\n",
       "      <td>...</td>\n",
       "      <td>0.318626</td>\n",
       "      <td>0.142642</td>\n",
       "      <td>1.703428</td>\n",
       "      <td>0.160056</td>\n",
       "      <td>0.202415</td>\n",
       "      <td>0.171430</td>\n",
       "      <td>0.159250</td>\n",
       "      <td>-0.001860</td>\n",
       "      <td>8.050000</td>\n",
       "      <td>0.996904</td>\n",
       "    </tr>\n",
       "    <tr>\n",
       "      <th>967</th>\n",
       "      <td>2.702834</td>\n",
       "      <td>-0.171998</td>\n",
       "      <td>-0.173341</td>\n",
       "      <td>0.146006</td>\n",
       "      <td>-0.024636</td>\n",
       "      <td>-0.019809</td>\n",
       "      <td>0.621968</td>\n",
       "      <td>-0.012488</td>\n",
       "      <td>-0.010523</td>\n",
       "      <td>0.250021</td>\n",
       "      <td>...</td>\n",
       "      <td>0.338902</td>\n",
       "      <td>0.309921</td>\n",
       "      <td>1.816432</td>\n",
       "      <td>0.162425</td>\n",
       "      <td>0.187248</td>\n",
       "      <td>0.183805</td>\n",
       "      <td>0.166044</td>\n",
       "      <td>0.064889</td>\n",
       "      <td>8.058333</td>\n",
       "      <td>0.997936</td>\n",
       "    </tr>\n",
       "    <tr>\n",
       "      <th>968</th>\n",
       "      <td>2.379812</td>\n",
       "      <td>-0.174597</td>\n",
       "      <td>-0.155057</td>\n",
       "      <td>0.149898</td>\n",
       "      <td>-0.026816</td>\n",
       "      <td>-0.003837</td>\n",
       "      <td>0.779804</td>\n",
       "      <td>-0.012814</td>\n",
       "      <td>0.001537</td>\n",
       "      <td>0.248321</td>\n",
       "      <td>...</td>\n",
       "      <td>0.352505</td>\n",
       "      <td>0.291615</td>\n",
       "      <td>2.033228</td>\n",
       "      <td>0.164539</td>\n",
       "      <td>0.218761</td>\n",
       "      <td>0.201833</td>\n",
       "      <td>0.179284</td>\n",
       "      <td>0.136315</td>\n",
       "      <td>8.066667</td>\n",
       "      <td>0.998968</td>\n",
       "    </tr>\n",
       "    <tr>\n",
       "      <th>969</th>\n",
       "      <td>2.596718</td>\n",
       "      <td>-0.173873</td>\n",
       "      <td>-0.105248</td>\n",
       "      <td>0.119631</td>\n",
       "      <td>-0.029572</td>\n",
       "      <td>-0.023123</td>\n",
       "      <td>0.508089</td>\n",
       "      <td>-0.014056</td>\n",
       "      <td>-0.017207</td>\n",
       "      <td>0.281334</td>\n",
       "      <td>...</td>\n",
       "      <td>0.387099</td>\n",
       "      <td>0.473234</td>\n",
       "      <td>1.771525</td>\n",
       "      <td>0.154040</td>\n",
       "      <td>0.094768</td>\n",
       "      <td>0.210361</td>\n",
       "      <td>0.197937</td>\n",
       "      <td>0.256034</td>\n",
       "      <td>8.075000</td>\n",
       "      <td>1.000000</td>\n",
       "    </tr>\n",
       "  </tbody>\n",
       "</table>\n",
       "<p>970 rows × 149 columns</p>\n",
       "</div>"
      ],
      "text/plain": [
       "       eeg_abspow  eeg_abspow_c7min_norm  eeg_abspow_p2min_norm  eeg_alpha  \\\n",
       "epoch                                                                        \n",
       "0        4.545341               0.931674               1.205143   0.289044   \n",
       "1        5.240892               0.912996               1.436574   0.262013   \n",
       "2        3.053210               0.844773               1.028447   0.353350   \n",
       "3        3.652775               0.793848               0.924130   0.451407   \n",
       "4        3.164528               0.743629               0.694412   0.431922   \n",
       "...           ...                    ...                    ...        ...   \n",
       "965      2.297324              -0.177384              -0.195025   0.159416   \n",
       "966      2.625368              -0.175691              -0.206395   0.155437   \n",
       "967      2.702834              -0.171998              -0.173341   0.146006   \n",
       "968      2.379812              -0.174597              -0.155057   0.149898   \n",
       "969      2.596718              -0.173873              -0.105248   0.119631   \n",
       "\n",
       "       eeg_alpha_c7min_norm  eeg_alpha_p2min_norm    eeg_at  \\\n",
       "epoch                                                         \n",
       "0                  0.432505              0.260559  3.837966   \n",
       "1                  0.455877              0.234352  3.482800   \n",
       "2                  0.480600              0.284652  3.562622   \n",
       "3                  0.501728              0.357336  4.808928   \n",
       "4                  0.519175              0.426598  5.049477   \n",
       "...                     ...                   ...       ...   \n",
       "965               -0.022214             -0.029946  0.965867   \n",
       "966               -0.022868             -0.021721  0.677207   \n",
       "967               -0.024636             -0.019809  0.621968   \n",
       "968               -0.026816             -0.003837  0.779804   \n",
       "969               -0.029572             -0.023123  0.508089   \n",
       "\n",
       "       eeg_at_c7min_norm  eeg_at_p2min_norm  eeg_beta  ...  \\\n",
       "epoch                                                  ...   \n",
       "0               0.631870           0.505437  0.305399  ...   \n",
       "1               0.645939           0.476353  0.261714  ...   \n",
       "2               0.657804           0.471016  0.288139  ...   \n",
       "3               0.669421           0.519377  0.225975  ...   \n",
       "4               0.675600           0.568981  0.271876  ...   \n",
       "...                  ...                ...       ...  ...   \n",
       "965            -0.011093          -0.011365  0.246440  ...   \n",
       "966            -0.011653          -0.010807  0.253879  ...   \n",
       "967            -0.012488          -0.010523  0.250021  ...   \n",
       "968            -0.012814           0.001537  0.248321  ...   \n",
       "969            -0.014056          -0.017207  0.281334  ...   \n",
       "\n",
       "       eog_skew_c7min_norm  eog_skew_p2min_norm   eog_std  eog_std_c7min_norm  \\\n",
       "epoch                                                                           \n",
       "0                -0.561162            -0.483046  3.931506            1.239759   \n",
       "1                -0.564484            -0.430728  4.236856            1.121821   \n",
       "2                -0.577619            -0.467211  2.171065            0.982754   \n",
       "3                -0.583573            -0.531085  2.639289            0.874477   \n",
       "4                -0.581902            -0.548754  1.826683            0.764979   \n",
       "...                    ...                  ...       ...                 ...   \n",
       "965               0.282269             0.041927  2.299645            0.165806   \n",
       "966               0.318626             0.142642  1.703428            0.160056   \n",
       "967               0.338902             0.309921  1.816432            0.162425   \n",
       "968               0.352505             0.291615  2.033228            0.164539   \n",
       "969               0.387099             0.473234  1.771525            0.154040   \n",
       "\n",
       "       eog_std_p2min_norm  eog_theta  eog_theta_c7min_norm  \\\n",
       "epoch                                                        \n",
       "0                2.067270   0.066370             -0.615230   \n",
       "1                2.210652   0.061887             -0.612157   \n",
       "2                1.611764   0.071202             -0.606614   \n",
       "3                1.422251   0.058757             -0.600190   \n",
       "4                0.928076   0.077217             -0.593656   \n",
       "...                   ...        ...                   ...   \n",
       "965              0.278790   0.138692              0.156989   \n",
       "966              0.202415   0.171430              0.159250   \n",
       "967              0.187248   0.183805              0.166044   \n",
       "968              0.218761   0.201833              0.179284   \n",
       "969              0.094768   0.210361              0.197937   \n",
       "\n",
       "       eog_theta_p2min_norm  time_hour  time_norm  \n",
       "epoch                                              \n",
       "0                 -0.582441   0.000000   0.000000  \n",
       "1                 -0.597417   0.008333   0.001032  \n",
       "2                 -0.581663   0.016667   0.002064  \n",
       "3                 -0.594574   0.025000   0.003096  \n",
       "4                 -0.576455   0.033333   0.004128  \n",
       "...                     ...        ...        ...  \n",
       "965                0.009874   8.041667   0.995872  \n",
       "966               -0.001860   8.050000   0.996904  \n",
       "967                0.064889   8.058333   0.997936  \n",
       "968                0.136315   8.066667   0.998968  \n",
       "969                0.256034   8.075000   1.000000  \n",
       "\n",
       "[970 rows x 149 columns]"
      ]
     },
     "execution_count": 23,
     "metadata": {},
     "output_type": "execute_result"
    }
   ],
   "source": [
    "features_8"
   ]
  },
  {
   "cell_type": "code",
   "execution_count": 24,
   "id": "70e27c0f",
   "metadata": {},
   "outputs": [
    {
     "data": {
      "text/html": [
       "<div>\n",
       "<style scoped>\n",
       "    .dataframe tbody tr th:only-of-type {\n",
       "        vertical-align: middle;\n",
       "    }\n",
       "\n",
       "    .dataframe tbody tr th {\n",
       "        vertical-align: top;\n",
       "    }\n",
       "\n",
       "    .dataframe thead th {\n",
       "        text-align: right;\n",
       "    }\n",
       "</style>\n",
       "<table border=\"1\" class=\"dataframe\">\n",
       "  <thead>\n",
       "    <tr style=\"text-align: right;\">\n",
       "      <th></th>\n",
       "      <th>eeg_abspow</th>\n",
       "      <th>eeg_abspow_c7min_norm</th>\n",
       "      <th>eeg_abspow_p2min_norm</th>\n",
       "      <th>eeg_alpha</th>\n",
       "      <th>eeg_alpha_c7min_norm</th>\n",
       "      <th>eeg_alpha_p2min_norm</th>\n",
       "      <th>eeg_at</th>\n",
       "      <th>eeg_at_c7min_norm</th>\n",
       "      <th>eeg_at_p2min_norm</th>\n",
       "      <th>eeg_beta</th>\n",
       "      <th>...</th>\n",
       "      <th>eog_skew_c7min_norm</th>\n",
       "      <th>eog_skew_p2min_norm</th>\n",
       "      <th>eog_std</th>\n",
       "      <th>eog_std_c7min_norm</th>\n",
       "      <th>eog_std_p2min_norm</th>\n",
       "      <th>eog_theta</th>\n",
       "      <th>eog_theta_c7min_norm</th>\n",
       "      <th>eog_theta_p2min_norm</th>\n",
       "      <th>time_hour</th>\n",
       "      <th>time_norm</th>\n",
       "    </tr>\n",
       "    <tr>\n",
       "      <th>epoch</th>\n",
       "      <th></th>\n",
       "      <th></th>\n",
       "      <th></th>\n",
       "      <th></th>\n",
       "      <th></th>\n",
       "      <th></th>\n",
       "      <th></th>\n",
       "      <th></th>\n",
       "      <th></th>\n",
       "      <th></th>\n",
       "      <th></th>\n",
       "      <th></th>\n",
       "      <th></th>\n",
       "      <th></th>\n",
       "      <th></th>\n",
       "      <th></th>\n",
       "      <th></th>\n",
       "      <th></th>\n",
       "      <th></th>\n",
       "      <th></th>\n",
       "      <th></th>\n",
       "    </tr>\n",
       "  </thead>\n",
       "  <tbody>\n",
       "    <tr>\n",
       "      <th>0</th>\n",
       "      <td>2.236699</td>\n",
       "      <td>-0.086209</td>\n",
       "      <td>-0.087006</td>\n",
       "      <td>0.133311</td>\n",
       "      <td>0.686315</td>\n",
       "      <td>0.322667</td>\n",
       "      <td>0.925211</td>\n",
       "      <td>1.143239</td>\n",
       "      <td>0.474665</td>\n",
       "      <td>0.248948</td>\n",
       "      <td>...</td>\n",
       "      <td>-0.373202</td>\n",
       "      <td>-1.296962</td>\n",
       "      <td>4.451709</td>\n",
       "      <td>0.798881</td>\n",
       "      <td>2.685668</td>\n",
       "      <td>0.097917</td>\n",
       "      <td>-0.475691</td>\n",
       "      <td>-0.345623</td>\n",
       "      <td>0.000000</td>\n",
       "      <td>0.000000</td>\n",
       "    </tr>\n",
       "    <tr>\n",
       "      <th>1</th>\n",
       "      <td>2.522212</td>\n",
       "      <td>-0.088422</td>\n",
       "      <td>-0.062275</td>\n",
       "      <td>0.148000</td>\n",
       "      <td>0.712782</td>\n",
       "      <td>0.391317</td>\n",
       "      <td>0.920996</td>\n",
       "      <td>1.178537</td>\n",
       "      <td>0.471652</td>\n",
       "      <td>0.213697</td>\n",
       "      <td>...</td>\n",
       "      <td>-0.288307</td>\n",
       "      <td>-0.793395</td>\n",
       "      <td>3.142569</td>\n",
       "      <td>0.607898</td>\n",
       "      <td>2.030537</td>\n",
       "      <td>0.050526</td>\n",
       "      <td>-0.475603</td>\n",
       "      <td>-0.558052</td>\n",
       "      <td>0.008333</td>\n",
       "      <td>0.001066</td>\n",
       "    </tr>\n",
       "    <tr>\n",
       "      <th>2</th>\n",
       "      <td>2.102220</td>\n",
       "      <td>-0.092707</td>\n",
       "      <td>-0.078284</td>\n",
       "      <td>0.221685</td>\n",
       "      <td>0.736335</td>\n",
       "      <td>0.643779</td>\n",
       "      <td>2.052389</td>\n",
       "      <td>1.216157</td>\n",
       "      <td>1.009845</td>\n",
       "      <td>0.293267</td>\n",
       "      <td>...</td>\n",
       "      <td>-0.230030</td>\n",
       "      <td>-0.546821</td>\n",
       "      <td>1.549476</td>\n",
       "      <td>0.430264</td>\n",
       "      <td>1.280674</td>\n",
       "      <td>0.087148</td>\n",
       "      <td>-0.464159</td>\n",
       "      <td>-0.519425</td>\n",
       "      <td>0.016667</td>\n",
       "      <td>0.002132</td>\n",
       "    </tr>\n",
       "    <tr>\n",
       "      <th>3</th>\n",
       "      <td>2.615744</td>\n",
       "      <td>-0.095529</td>\n",
       "      <td>-0.064048</td>\n",
       "      <td>0.201452</td>\n",
       "      <td>0.724494</td>\n",
       "      <td>0.722729</td>\n",
       "      <td>1.370815</td>\n",
       "      <td>1.177252</td>\n",
       "      <td>1.035324</td>\n",
       "      <td>0.286054</td>\n",
       "      <td>...</td>\n",
       "      <td>-0.184460</td>\n",
       "      <td>-0.441137</td>\n",
       "      <td>1.856461</td>\n",
       "      <td>0.303849</td>\n",
       "      <td>0.982554</td>\n",
       "      <td>0.097280</td>\n",
       "      <td>-0.448160</td>\n",
       "      <td>-0.477402</td>\n",
       "      <td>0.025000</td>\n",
       "      <td>0.003198</td>\n",
       "    </tr>\n",
       "    <tr>\n",
       "      <th>4</th>\n",
       "      <td>1.859047</td>\n",
       "      <td>-0.100567</td>\n",
       "      <td>-0.080404</td>\n",
       "      <td>0.174524</td>\n",
       "      <td>0.697243</td>\n",
       "      <td>0.819033</td>\n",
       "      <td>1.309697</td>\n",
       "      <td>1.129465</td>\n",
       "      <td>1.172752</td>\n",
       "      <td>0.296029</td>\n",
       "      <td>...</td>\n",
       "      <td>-0.154348</td>\n",
       "      <td>-0.115706</td>\n",
       "      <td>1.580510</td>\n",
       "      <td>0.204462</td>\n",
       "      <td>0.264139</td>\n",
       "      <td>0.113959</td>\n",
       "      <td>-0.440698</td>\n",
       "      <td>-0.441449</td>\n",
       "      <td>0.033333</td>\n",
       "      <td>0.004264</td>\n",
       "    </tr>\n",
       "    <tr>\n",
       "      <th>...</th>\n",
       "      <td>...</td>\n",
       "      <td>...</td>\n",
       "      <td>...</td>\n",
       "      <td>...</td>\n",
       "      <td>...</td>\n",
       "      <td>...</td>\n",
       "      <td>...</td>\n",
       "      <td>...</td>\n",
       "      <td>...</td>\n",
       "      <td>...</td>\n",
       "      <td>...</td>\n",
       "      <td>...</td>\n",
       "      <td>...</td>\n",
       "      <td>...</td>\n",
       "      <td>...</td>\n",
       "      <td>...</td>\n",
       "      <td>...</td>\n",
       "      <td>...</td>\n",
       "      <td>...</td>\n",
       "      <td>...</td>\n",
       "      <td>...</td>\n",
       "    </tr>\n",
       "    <tr>\n",
       "      <th>934</th>\n",
       "      <td>3.215868</td>\n",
       "      <td>0.079294</td>\n",
       "      <td>0.046847</td>\n",
       "      <td>0.072652</td>\n",
       "      <td>-0.085750</td>\n",
       "      <td>-0.080221</td>\n",
       "      <td>0.488856</td>\n",
       "      <td>-0.095791</td>\n",
       "      <td>-0.049009</td>\n",
       "      <td>0.102038</td>\n",
       "      <td>...</td>\n",
       "      <td>0.202259</td>\n",
       "      <td>0.281474</td>\n",
       "      <td>1.793841</td>\n",
       "      <td>-0.035141</td>\n",
       "      <td>-0.103586</td>\n",
       "      <td>0.170654</td>\n",
       "      <td>0.258794</td>\n",
       "      <td>0.299283</td>\n",
       "      <td>7.783333</td>\n",
       "      <td>0.995736</td>\n",
       "    </tr>\n",
       "    <tr>\n",
       "      <th>935</th>\n",
       "      <td>3.348229</td>\n",
       "      <td>0.088305</td>\n",
       "      <td>0.042951</td>\n",
       "      <td>0.091021</td>\n",
       "      <td>-0.099223</td>\n",
       "      <td>-0.025130</td>\n",
       "      <td>0.643512</td>\n",
       "      <td>-0.102956</td>\n",
       "      <td>0.015782</td>\n",
       "      <td>0.105900</td>\n",
       "      <td>...</td>\n",
       "      <td>0.173266</td>\n",
       "      <td>0.192724</td>\n",
       "      <td>1.929023</td>\n",
       "      <td>-0.015118</td>\n",
       "      <td>-0.032934</td>\n",
       "      <td>0.119026</td>\n",
       "      <td>0.240071</td>\n",
       "      <td>0.265505</td>\n",
       "      <td>7.791667</td>\n",
       "      <td>0.996802</td>\n",
       "    </tr>\n",
       "    <tr>\n",
       "      <th>936</th>\n",
       "      <td>3.571526</td>\n",
       "      <td>0.097398</td>\n",
       "      <td>0.083532</td>\n",
       "      <td>0.057302</td>\n",
       "      <td>-0.114480</td>\n",
       "      <td>-0.135716</td>\n",
       "      <td>0.358100</td>\n",
       "      <td>-0.116491</td>\n",
       "      <td>-0.089600</td>\n",
       "      <td>0.087399</td>\n",
       "      <td>...</td>\n",
       "      <td>0.142119</td>\n",
       "      <td>0.057820</td>\n",
       "      <td>1.846464</td>\n",
       "      <td>0.002999</td>\n",
       "      <td>0.042097</td>\n",
       "      <td>0.137828</td>\n",
       "      <td>0.235847</td>\n",
       "      <td>0.204676</td>\n",
       "      <td>7.800000</td>\n",
       "      <td>0.997868</td>\n",
       "    </tr>\n",
       "    <tr>\n",
       "      <th>937</th>\n",
       "      <td>3.030310</td>\n",
       "      <td>0.104469</td>\n",
       "      <td>0.095726</td>\n",
       "      <td>0.120380</td>\n",
       "      <td>-0.112137</td>\n",
       "      <td>-0.125735</td>\n",
       "      <td>0.579618</td>\n",
       "      <td>-0.114636</td>\n",
       "      <td>-0.108224</td>\n",
       "      <td>0.157947</td>\n",
       "      <td>...</td>\n",
       "      <td>0.120864</td>\n",
       "      <td>0.066141</td>\n",
       "      <td>1.666218</td>\n",
       "      <td>0.019753</td>\n",
       "      <td>0.040580</td>\n",
       "      <td>0.194055</td>\n",
       "      <td>0.243602</td>\n",
       "      <td>0.169616</td>\n",
       "      <td>7.808333</td>\n",
       "      <td>0.998934</td>\n",
       "    </tr>\n",
       "    <tr>\n",
       "      <th>938</th>\n",
       "      <td>3.944515</td>\n",
       "      <td>0.116002</td>\n",
       "      <td>0.127284</td>\n",
       "      <td>0.071384</td>\n",
       "      <td>-0.121549</td>\n",
       "      <td>-0.128697</td>\n",
       "      <td>0.530448</td>\n",
       "      <td>-0.111926</td>\n",
       "      <td>-0.093358</td>\n",
       "      <td>0.070382</td>\n",
       "      <td>...</td>\n",
       "      <td>0.084260</td>\n",
       "      <td>0.010430</td>\n",
       "      <td>2.090621</td>\n",
       "      <td>0.046909</td>\n",
       "      <td>0.114839</td>\n",
       "      <td>0.157583</td>\n",
       "      <td>0.242800</td>\n",
       "      <td>0.140321</td>\n",
       "      <td>7.816667</td>\n",
       "      <td>1.000000</td>\n",
       "    </tr>\n",
       "  </tbody>\n",
       "</table>\n",
       "<p>939 rows × 149 columns</p>\n",
       "</div>"
      ],
      "text/plain": [
       "       eeg_abspow  eeg_abspow_c7min_norm  eeg_abspow_p2min_norm  eeg_alpha  \\\n",
       "epoch                                                                        \n",
       "0        2.236699              -0.086209              -0.087006   0.133311   \n",
       "1        2.522212              -0.088422              -0.062275   0.148000   \n",
       "2        2.102220              -0.092707              -0.078284   0.221685   \n",
       "3        2.615744              -0.095529              -0.064048   0.201452   \n",
       "4        1.859047              -0.100567              -0.080404   0.174524   \n",
       "...           ...                    ...                    ...        ...   \n",
       "934      3.215868               0.079294               0.046847   0.072652   \n",
       "935      3.348229               0.088305               0.042951   0.091021   \n",
       "936      3.571526               0.097398               0.083532   0.057302   \n",
       "937      3.030310               0.104469               0.095726   0.120380   \n",
       "938      3.944515               0.116002               0.127284   0.071384   \n",
       "\n",
       "       eeg_alpha_c7min_norm  eeg_alpha_p2min_norm    eeg_at  \\\n",
       "epoch                                                         \n",
       "0                  0.686315              0.322667  0.925211   \n",
       "1                  0.712782              0.391317  0.920996   \n",
       "2                  0.736335              0.643779  2.052389   \n",
       "3                  0.724494              0.722729  1.370815   \n",
       "4                  0.697243              0.819033  1.309697   \n",
       "...                     ...                   ...       ...   \n",
       "934               -0.085750             -0.080221  0.488856   \n",
       "935               -0.099223             -0.025130  0.643512   \n",
       "936               -0.114480             -0.135716  0.358100   \n",
       "937               -0.112137             -0.125735  0.579618   \n",
       "938               -0.121549             -0.128697  0.530448   \n",
       "\n",
       "       eeg_at_c7min_norm  eeg_at_p2min_norm  eeg_beta  ...  \\\n",
       "epoch                                                  ...   \n",
       "0               1.143239           0.474665  0.248948  ...   \n",
       "1               1.178537           0.471652  0.213697  ...   \n",
       "2               1.216157           1.009845  0.293267  ...   \n",
       "3               1.177252           1.035324  0.286054  ...   \n",
       "4               1.129465           1.172752  0.296029  ...   \n",
       "...                  ...                ...       ...  ...   \n",
       "934            -0.095791          -0.049009  0.102038  ...   \n",
       "935            -0.102956           0.015782  0.105900  ...   \n",
       "936            -0.116491          -0.089600  0.087399  ...   \n",
       "937            -0.114636          -0.108224  0.157947  ...   \n",
       "938            -0.111926          -0.093358  0.070382  ...   \n",
       "\n",
       "       eog_skew_c7min_norm  eog_skew_p2min_norm   eog_std  eog_std_c7min_norm  \\\n",
       "epoch                                                                           \n",
       "0                -0.373202            -1.296962  4.451709            0.798881   \n",
       "1                -0.288307            -0.793395  3.142569            0.607898   \n",
       "2                -0.230030            -0.546821  1.549476            0.430264   \n",
       "3                -0.184460            -0.441137  1.856461            0.303849   \n",
       "4                -0.154348            -0.115706  1.580510            0.204462   \n",
       "...                    ...                  ...       ...                 ...   \n",
       "934               0.202259             0.281474  1.793841           -0.035141   \n",
       "935               0.173266             0.192724  1.929023           -0.015118   \n",
       "936               0.142119             0.057820  1.846464            0.002999   \n",
       "937               0.120864             0.066141  1.666218            0.019753   \n",
       "938               0.084260             0.010430  2.090621            0.046909   \n",
       "\n",
       "       eog_std_p2min_norm  eog_theta  eog_theta_c7min_norm  \\\n",
       "epoch                                                        \n",
       "0                2.685668   0.097917             -0.475691   \n",
       "1                2.030537   0.050526             -0.475603   \n",
       "2                1.280674   0.087148             -0.464159   \n",
       "3                0.982554   0.097280             -0.448160   \n",
       "4                0.264139   0.113959             -0.440698   \n",
       "...                   ...        ...                   ...   \n",
       "934             -0.103586   0.170654              0.258794   \n",
       "935             -0.032934   0.119026              0.240071   \n",
       "936              0.042097   0.137828              0.235847   \n",
       "937              0.040580   0.194055              0.243602   \n",
       "938              0.114839   0.157583              0.242800   \n",
       "\n",
       "       eog_theta_p2min_norm  time_hour  time_norm  \n",
       "epoch                                              \n",
       "0                 -0.345623   0.000000   0.000000  \n",
       "1                 -0.558052   0.008333   0.001066  \n",
       "2                 -0.519425   0.016667   0.002132  \n",
       "3                 -0.477402   0.025000   0.003198  \n",
       "4                 -0.441449   0.033333   0.004264  \n",
       "...                     ...        ...        ...  \n",
       "934                0.299283   7.783333   0.995736  \n",
       "935                0.265505   7.791667   0.996802  \n",
       "936                0.204676   7.800000   0.997868  \n",
       "937                0.169616   7.808333   0.998934  \n",
       "938                0.140321   7.816667   1.000000  \n",
       "\n",
       "[939 rows x 149 columns]"
      ]
     },
     "execution_count": 24,
     "metadata": {},
     "output_type": "execute_result"
    }
   ],
   "source": [
    "features_9"
   ]
  },
  {
   "cell_type": "code",
   "execution_count": 21,
   "id": "3fdd4cc2",
   "metadata": {},
   "outputs": [
    {
     "name": "stdout",
     "output_type": "stream",
     "text": [
      "              precision    recall  f1-score   support\n",
      "\n",
      "           0       0.15      0.99      0.26       122\n",
      "           1       0.00      0.00      0.00       167\n",
      "           2       0.04      0.01      0.01       362\n",
      "           3       0.93      0.12      0.21       225\n",
      "           4       0.89      0.27      0.41        63\n",
      "\n",
      "    accuracy                           0.18       939\n",
      "   macro avg       0.40      0.28      0.18       939\n",
      "weighted avg       0.32      0.18      0.12       939\n",
      "\n"
     ]
    }
   ],
   "source": [
    "print(classification_report(labels9, hypno_pred9))"
   ]
  },
  {
   "cell_type": "code",
   "execution_count": 25,
   "id": "eefb9cdb",
   "metadata": {},
   "outputs": [
    {
     "data": {
      "text/plain": [
       "0       0\n",
       "1       0\n",
       "2       0\n",
       "3       0\n",
       "4       0\n",
       "       ..\n",
       "1904    2\n",
       "1905    2\n",
       "1906    2\n",
       "1907    2\n",
       "1908    2\n",
       "Name: 0, Length: 1909, dtype: int64"
      ]
     },
     "execution_count": 25,
     "metadata": {},
     "output_type": "execute_result"
    }
   ],
   "source": [
    "# Unimos también las etiquetas \n",
    "\n",
    "labels= labels8.append(labels9)\n",
    "labels.reset_index(inplace=True, drop=True)\n",
    "labels"
   ]
  },
  {
   "cell_type": "code",
   "execution_count": 26,
   "id": "279878a5",
   "metadata": {},
   "outputs": [],
   "source": [
    "# Dividimos en train y test \n",
    "\n",
    "x_train, x_test, y_train, y_test = train_test_split(X, labels, test_size=0.2, random_state=0)\n"
   ]
  },
  {
   "cell_type": "code",
   "execution_count": 28,
   "id": "4ca4528d",
   "metadata": {
    "scrolled": true
   },
   "outputs": [
    {
     "name": "stdout",
     "output_type": "stream",
     "text": [
      "              precision    recall  f1-score   support\n",
      "\n",
      "           0       0.92      0.92      0.92       106\n",
      "           1       0.72      0.63      0.67        62\n",
      "           2       0.80      0.81      0.81       101\n",
      "           3       0.86      0.94      0.90        71\n",
      "           4       0.95      0.93      0.94        42\n",
      "\n",
      "    accuracy                           0.85       382\n",
      "   macro avg       0.85      0.85      0.85       382\n",
      "weighted avg       0.85      0.85      0.85       382\n",
      "\n"
     ]
    }
   ],
   "source": [
    "# Hacemos un Random Forest con las medias de cada tramo de cada canal\n",
    "\n",
    "# Buscamos los parámetros óptimos del clasificador \n",
    "\n",
    "RF = OneVsRestClassifier(RandomForestClassifier(random_state=0))\n",
    "#params = {'n_estimators': [], 'criterion': ['gini', 'entropy'], 'max_depth':[1,2,3,4,5,6,7]}\n",
    "\n",
    "#RF = GridSearchCV(, param_grid=\n",
    "RF.fit(x_train, y_train)\n",
    "\n",
    "preds = RF.predict(x_test)\n",
    "\n",
    "print(classification_report(y_test, preds))"
   ]
  },
  {
   "cell_type": "code",
   "execution_count": 29,
   "id": "1fc7f6b9",
   "metadata": {},
   "outputs": [
    {
     "data": {
      "image/png": "[encoded data removed]",
      "text/plain": [
       "<Figure size 432x288 with 1 Axes>"
      ]
     },
     "metadata": {
      "needs_background": "light"
     },
     "output_type": "display_data"
    }
   ],
   "source": [
    "# Matriz de confusión \n",
    "\n",
    "matrix = confusion_matrix(y_test, preds)\n",
    "\n",
    "dataframe = pd.DataFrame(matrix, index=y_test.unique(), columns=y_test.unique())\n",
    "\n",
    "# crear mapa de calor dibujar mapa de calor\n",
    "sns.heatmap(dataframe, annot=True, cbar=None, cmap=\"Blues\")\n",
    "plt.title(\"Confusion Matrix\"), plt.tight_layout()\n",
    "plt.ylabel(\"True Class\"), plt.xlabel(\"Predicted Class\")\n",
    "plt.show()"
   ]
  },
  {
   "cell_type": "code",
   "execution_count": 37,
   "id": "a8f46cf3",
   "metadata": {},
   "outputs": [
    {
     "data": {
      "text/plain": [
       "Text(0.5, 1.0, 'Estimador 5')"
      ]
     },
     "execution_count": 37,
     "metadata": {},
     "output_type": "execute_result"
    },
    {
     "data": {
      "image/png": "[encoded data removed]",
      "text/plain": [
       "<Figure size 432x288 with 1 Axes>"
      ]
     },
     "metadata": {
      "needs_background": "light"
     },
     "output_type": "display_data"
    },
    {
     "data": {
      "image/png": "[encoded data removed]",
      "text/plain": [
       "<Figure size 432x288 with 1 Axes>"
      ]
     },
     "metadata": {
      "needs_background": "light"
     },
     "output_type": "display_data"
    },
    {
     "data": {
      "image/png": "[encoded data removed]",
      "text/plain": [
       "<Figure size 432x288 with 1 Axes>"
      ]
     },
     "metadata": {
      "needs_background": "light"
     },
     "output_type": "display_data"
    },
    {
     "data": {
      "image/png": "[encoded data removed]",
      "text/plain": [
       "<Figure size 432x288 with 1 Axes>"
      ]
     },
     "metadata": {
      "needs_background": "light"
     },
     "output_type": "display_data"
    },
    {
     "data": {
      "image/png": "[encoded data removed]",
      "text/plain": [
       "<Figure size 432x288 with 1 Axes>"
      ]
     },
     "metadata": {
      "needs_background": "light"
     },
     "output_type": "display_data"
    }
   ],
   "source": [
    "# Hacemos la curva ROC de cada uno de los 5 RandomForests creados para el conjunto de entrenamiento\n",
    "\n",
    "plot_roc_curve(RF.estimators_[0], X, labels )\n",
    "plt.plot([0,1],[0,1])\n",
    "plt.title('Estimador 1')\n",
    "\n",
    "plot_roc_curve(RF.estimators_[1], X, labels )\n",
    "plt.plot([0,1],[0,1])\n",
    "plt.title('Estimador 2')\n",
    "\n",
    "plot_roc_curve(RF.estimators_[2], X, labels )\n",
    "plt.plot([0,1],[0,1])\n",
    "plt.title('Estimador 3')\n",
    "\n",
    "plot_roc_curve(RF.estimators_[3], X, labels )\n",
    "plt.plot([0,1],[0,1])\n",
    "plt.title('Estimador 4')\n",
    "\n",
    "plot_roc_curve(RF.estimators_[4], X, labels )\n",
    "plt.plot([0,1],[0,1])\n",
    "plt.title('Estimador 5')"
   ]
  },
  {
   "cell_type": "code",
   "execution_count": null,
   "id": "8d4f0705",
   "metadata": {},
   "outputs": [],
   "source": []
  },
  {
   "cell_type": "markdown",
   "id": "5b21d3b9",
   "metadata": {},
   "source": [
    "Una vez entreando el modelo, hacemos las predicciones sobre el sujeto 10. Este sujeto nunca lo ha visto nuestro modelo."
   ]
  },
  {
   "cell_type": "code",
   "execution_count": 30,
   "id": "680b84da",
   "metadata": {},
   "outputs": [
    {
     "name": "stdout",
     "output_type": "stream",
     "text": [
      "              precision    recall  f1-score   support\n",
      "\n",
      "           0       0.55      0.98      0.70       127\n",
      "           1       0.74      0.45      0.56       219\n",
      "           2       0.63      0.75      0.68       173\n",
      "           3       0.94      0.84      0.89       112\n",
      "           4       0.95      0.71      0.81       135\n",
      "\n",
      "    accuracy                           0.71       766\n",
      "   macro avg       0.76      0.74      0.73       766\n",
      "weighted avg       0.75      0.71      0.70       766\n",
      "\n"
     ]
    }
   ],
   "source": [
    "preds_10 = RF.predict(features_10)\n",
    "print(classification_report(labels10, preds_10))"
   ]
  },
  {
   "cell_type": "code",
   "execution_count": 36,
   "id": "ba4452a3",
   "metadata": {},
   "outputs": [
    {
     "data": {
      "text/plain": [
       "Text(0.5, 1.0, 'Estimador 5')"
      ]
     },
     "execution_count": 36,
     "metadata": {},
     "output_type": "execute_result"
    },
    {
     "data": {
      "image/png": "[encoded data removed]",
      "text/plain": [
       "<Figure size 432x288 with 1 Axes>"
      ]
     },
     "metadata": {
      "needs_background": "light"
     },
     "output_type": "display_data"
    },
    {
     "data": {
      "image/png": "[encoded data removed]",
      "text/plain": [
       "<Figure size 432x288 with 1 Axes>"
      ]
     },
     "metadata": {
      "needs_background": "light"
     },
     "output_type": "display_data"
    },
    {
     "data": {
      "image/png": "[encoded data removed]",
      "text/plain": [
       "<Figure size 432x288 with 1 Axes>"
      ]
     },
     "metadata": {
      "needs_background": "light"
     },
     "output_type": "display_data"
    },
    {
     "data": {
      "image/png": "[encoded data removed]",
      "text/plain": [
       "<Figure size 432x288 with 1 Axes>"
      ]
     },
     "metadata": {
      "needs_background": "light"
     },
     "output_type": "display_data"
    },
    {
     "data": {
      "image/png": "[encoded data removed]",
      "text/plain": [
       "<Figure size 432x288 with 1 Axes>"
      ]
     },
     "metadata": {
      "needs_background": "light"
     },
     "output_type": "display_data"
    }
   ],
   "source": [
    "# Hacemos la curva ROC de cada uno de los 5 RandomForests creados. \n",
    "\n",
    "plot_roc_curve(RF.estimators_[0], features_10, labels10 )\n",
    "plt.plot([0,1],[0,1])\n",
    "plt.title('Estimador 1')\n",
    "\n",
    "plot_roc_curve(RF.estimators_[1], features_10, labels10 )\n",
    "plt.plot([0,1],[0,1])\n",
    "plt.title('Estimador 2')\n",
    "\n",
    "plot_roc_curve(RF.estimators_[2], features_10, labels10 )\n",
    "plt.plot([0,1],[0,1])\n",
    "plt.title('Estimador 3')\n",
    "\n",
    "plot_roc_curve(RF.estimators_[3], features_10, labels10 )\n",
    "plt.plot([0,1],[0,1])\n",
    "plt.title('Estimador 4')\n",
    "\n",
    "plot_roc_curve(RF.estimators_[4], features_10, labels10 )\n",
    "plt.plot([0,1],[0,1])\n",
    "plt.title('Estimador 5')"
   ]
  },
  {
   "cell_type": "code",
   "execution_count": null,
   "id": "8986a9a5",
   "metadata": {},
   "outputs": [],
   "source": []
  },
  {
   "cell_type": "code",
   "execution_count": 53,
   "id": "323099fc",
   "metadata": {},
   "outputs": [],
   "source": [
    "# Para comprobar la bondad del modelo entrenaremos con 2(8,9) pacientes y comprobaremos con 1(10) paciente.\n",
    "# Cuando tengamos los 10 pacientes, usaremos 8(2:9) para train y 2(1,10) para test.\n",
    "\n",
    "# En la hoja de excel tenemos etapa, ritmo cardíaco, eventos,... Una de las ideas es eliminar del entrenamiento todas las \n",
    "# épocas que tenga alguna anotación en eventos.\n",
    "# Establecemos umbrales según las probabilidades obtenidas. Si no supera el 0.3, no se marca por ejemplo.\n",
    "\n",
    "\n",
    "# Con solo tres canales es posible hacerlo.\n",
    "# A3, ojo izquierdo y movimiento muscular (menton)\n",
    "\n",
    "\n",
    "# EVALUACION \n",
    "# Hacer CV con el AUC sobre el conjunto de entrenamiento para ver la variabilidad del modelo. Damos la media y las Desv. Tip. \n",
    "# después del CV.\n",
    "# Dar el AUC en test también.\n",
    "# Idealmente se podrían dar estos datos con un boxplot."
   ]
  },
  {
   "cell_type": "code",
   "execution_count": null,
   "id": "2bda9828",
   "metadata": {},
   "outputs": [],
   "source": []
  },
  {
   "cell_type": "code",
   "execution_count": null,
   "id": "6fbf663b",
   "metadata": {},
   "outputs": [],
   "source": []
  },
  {
   "cell_type": "code",
   "execution_count": null,
   "id": "a29be1f2",
   "metadata": {},
   "outputs": [],
   "source": []
  },
  {
   "cell_type": "code",
   "execution_count": null,
   "id": "5d93cbc4",
   "metadata": {},
   "outputs": [],
   "source": []
  }
 ],
 "metadata": {
  "kernelspec": {
   "display_name": "Python 3 (ipykernel)",
   "language": "python",
   "name": "python3"
  },
  "language_info": {
   "codemirror_mode": {
    "name": "ipython",
    "version": 3
   },
   "file_extension": ".py",
   "mimetype": "text/x-python",
   "name": "python",
   "nbconvert_exporter": "python",
   "pygments_lexer": "ipython3",
   "version": "3.9.7"
  }
 },
 "nbformat": 4,
 "nbformat_minor": 5
}
